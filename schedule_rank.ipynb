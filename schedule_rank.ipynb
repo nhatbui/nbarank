{
 "cells": [
  {
   "cell_type": "markdown",
   "metadata": {},
   "source": [
    "# I PageRanked the NBA\n",
    "(This was written on Jan. 20th, 2016 and all results and conclusions are based on the state of the NBA season at that time.)\n",
    "\n",
    "**Not all wins are created equal.**\n",
    "\n",
    "Beating the 2015-16 Golden State Warriors is a different task than beating the 2015-16 Los Angeles Lakers. So what if we weighted victories differently?\n",
    "\n",
    "Suppose we weighed victories by the number of wins of the defeated team. That means beating teams with more wins is more valueable!\n",
    "\n",
    "NBA Power Rankings are coming out in full force as the season moves through the halfway point. I wanted to do my own power ranking with analysis to back it up. While thinking about rankings with weighted wins, I encountered an iterative problem: the Warriors beat the Lakers but the Lakers beat the Pistons but the Pistons beat the Warriors! If the value of a team is based on the number of wins of the team they beat, this value is a never-ending, always-increasing cycle. But I recognized this same problem in determining relevance in websites based on links: a website is valuable based on the value of the websites linking to it. Well, that sounds like our power ranking definition: the power of a team is based on the power of the team it beats. So I decided to approach the problem like a web search problem. Who is really good at web search? Google. And what do they do to solve this? Google uses [PageRank](https://en.wikipedia.org/wiki/PageRank). So I borrowed it to do an NBA Power Ranking.\n",
    "\n",
    "The data is obtained from [Basketball-Reference's 2015-16 Schedule](http://www.basketball-reference.com/leagues/NBA_2016_games.html?lid=header_seasons). I manually copied-and-pasted the CSV version and saved it. I removed the unused columns and all the unplayed games."
   ]
  },
  {
   "cell_type": "code",
   "execution_count": 183,
   "metadata": {
    "collapsed": false
   },
   "outputs": [],
   "source": [
    "import pandas as pd\n",
    "\n",
    "# Load Schedule\n",
    "schedule = pd.read_csv('2015_16_Schedule.csv',\n",
    "                       header=0)\n",
    "schedule = schedule.drop(['Unnamed: 2', 'Unnamed: 7', 'Notes'], axis=1)\n",
    "schedule = schedule.dropna()"
   ]
  },
  {
   "cell_type": "markdown",
   "metadata": {},
   "source": [
    "## Creating the NBA Graph\n",
    "\n",
    "We create a adjacency matrix for the graph of NBA using the teams as nodes and the wins as weighted, directed edges. So a directed edge of weight 2 from the Warriors to the Lakers means the Warriors have beat the Lakers twice."
   ]
  },
  {
   "cell_type": "code",
   "execution_count": 184,
   "metadata": {
    "collapsed": false
   },
   "outputs": [],
   "source": [
    "import numpy as np\n",
    "\n",
    "# Create Records Matrix\n",
    "teams = pd.read_csv('teams.csv', names=['teams'])\n",
    "teams = teams['teams'].tolist()\n",
    "teams = [team.strip() for team in teams]\n",
    "n_teams = len(teams)\n",
    "records = pd.DataFrame(np.zeros((n_teams,n_teams)),\n",
    "                       columns=teams,\n",
    "                       index=teams)\n",
    "# Compute Records\n",
    "for index, game in schedule.iterrows():\n",
    "    hometeam = game['Home/Neutral']\n",
    "    visitor = game['Visitor/Neutral']\n",
    "    if hometeam == visitor:\n",
    "        continue\n",
    "\n",
    "    if int(game['PTS.1']) > int(game['PTS']):\n",
    "        # Home Team won\n",
    "        records.at[hometeam, visitor] += 1\n",
    "    else:\n",
    "        # Visiting Team won\n",
    "        records.at[visitor, hometeam] += 1"
   ]
  },
  {
   "cell_type": "markdown",
   "metadata": {},
   "source": [
    "## Eigenvector Centrality\n",
    "\n",
    "At its core, PageRank solves for the principle eigenvector of the adjacency matrix. We call the concept [eigenvector centrality](https://en.wikipedia.org/wiki/Centrality#Eigenvector_centrality) because an eigenvector will assign relative values to nodes based on the values of its connections. The final values will be used to rank the nodes in importance. Below is the basic approach of computing the eigenvalue using the [power iteration](https://en.wikipedia.org/wiki/Power_iteration) method."
   ]
  },
  {
   "cell_type": "code",
   "execution_count": 185,
   "metadata": {
    "collapsed": false
   },
   "outputs": [],
   "source": [
    "import math\n",
    "\n",
    "def centrality_scores(G, stop_count=100):\n",
    "    n = G.shape[1]\n",
    "    e = np.ones(n)/math.sqrt(n)\n",
    "    g = G.as_matrix()\n",
    "    for _ in xrange(stop_count):\n",
    "        e = np.dot(g,e)\n",
    "        e /= np.linalg.norm(e)\n",
    "    return pd.Series(e, index=G.index, name=['score'])"
   ]
  },
  {
   "cell_type": "markdown",
   "metadata": {},
   "source": [
    "## Katz Centrality\n",
    "\n",
    "One method that goes beyond this is [Katz Centrality](https://en.wikipedia.org/wiki/Katz_centrality). Katz Centrality also considers the importance of a node by counting *all* paths to it (not just immediate neighbors) yet the value of a path is attenuated by its distance from the node. For example, A -> B and A -> D -> C -> B are both paths to B but the second path is less valuable because it's made of 3 edges. The algorithm wil attenuate by specifying a factor, alpha, that's raised to the power of edge lengths of the path.\n",
    "\n",
    "The implementation is based on the one from the NetworkX project (BSD licensed too) with copyrights by:\n",
    "      \n",
    "      Aric Hagberg <hagberg@lanl.gov>\n",
    "      Dan Schult <dschult@colgate.edu>\n",
    "      Pieter Swart <swart@lanl.gov>"
   ]
  },
  {
   "cell_type": "code",
   "execution_count": 186,
   "metadata": {
    "collapsed": false
   },
   "outputs": [],
   "source": [
    "def katz_centrality(G, alpha=0.1):\n",
    "    n = G.shape[0]\n",
    "    b = np.ones((n,1.0))\n",
    "    centrality = np.linalg.solve( np.eye(n,n) - (alpha * G) , b)\n",
    "    norm = np.sign(sum(centrality)) * np.linalg.norm(centrality)\n",
    "    scores = [c[0]/norm[0] for c in centrality]\n",
    "    return pd.Series(scores, index=G.index, name=['score'])"
   ]
  },
  {
   "cell_type": "markdown",
   "metadata": {},
   "source": [
    "## PageRank\n",
    "\n",
    "Last but not least, PageRank. PageRank will calculate, for a node, the percentage that a random walk starting from any other node will end up at the node. Furthermore, there is a dampening factor used to constrain the random walk. This is like another way to attenuate long paths as a result of long exploration. Effectively, it values edges from closer neighboring nodes.\n",
    "\n",
    "The implementation is based on the one from the NetworkX project (BSD licensed too) with copyrights by:\n",
    "      \n",
    "      Aric Hagberg <hagberg@lanl.gov>\n",
    "      Dan Schult <dschult@colgate.edu>\n",
    "      Pieter Swart <swart@lanl.gov>"
   ]
  },
  {
   "cell_type": "code",
   "execution_count": 187,
   "metadata": {
    "collapsed": false
   },
   "outputs": [],
   "source": [
    "def pagerank(G, index, alpha=0.85, max_iter=100, tol=1e-10):\n",
    "    n = G.shape[0]\n",
    "    X = G.copy()\n",
    "    incoming_counts = np.asarray(G.sum(axis=1)).ravel()\n",
    "\n",
    "    for i in incoming_counts.nonzero()[0]:\n",
    "        G.data[G.indptr[i]:G.indptr[i + 1]] *= 1.0 / incoming_counts[i]\n",
    "    dangle = np.asarray(np.where(G.sum(axis=1) == 0, 1.0 / n, 0)).ravel()\n",
    "\n",
    "    scores = np.ones(n, dtype=np.float32) / n  # initial guess\n",
    "    for i in range(max_iter):\n",
    "        prev_scores = scores\n",
    "        scores = (alpha * (scores * G + np.dot(dangle, prev_scores))\n",
    "                  + (1 - alpha) * prev_scores.sum() / n)\n",
    "        # check convergence: normalized l_inf norm\n",
    "        scores_max = np.abs(scores).max()\n",
    "        if scores_max == 0.0:\n",
    "            scores_max = 1.0\n",
    "        err = np.abs(scores - prev_scores).max() / scores_max\n",
    "        if err < n * tol:\n",
    "            return pd.Series(scores, index=index, name=['score'])\n",
    "\n",
    "    return pd.Series(scores, index=index, name=['score'])"
   ]
  },
  {
   "cell_type": "markdown",
   "metadata": {},
   "source": [
    "## Eigenvector Centrality Results"
   ]
  },
  {
   "cell_type": "code",
   "execution_count": 188,
   "metadata": {
    "collapsed": false
   },
   "outputs": [
    {
     "name": "stdout",
     "output_type": "stream",
     "text": [
      "Golden State Warriors     0.320439\n",
      "San Antonio Spurs         0.293995\n",
      "Oklahoma City Thunder     0.243888\n",
      "Cleveland Cavaliers       0.223047\n",
      "Toronto Raptors           0.218515\n",
      "Chicago Bulls             0.214466\n",
      "Los Angeles Clippers      0.209885\n",
      "Atlanta Hawks             0.206417\n",
      "Dallas Mavericks          0.195671\n",
      "Miami Heat                0.194414\n",
      "Memphis Grizzlies         0.192992\n",
      "Indiana Pacers            0.192104\n",
      "Detroit Pistons           0.190415\n",
      "Houston Rockets           0.183472\n",
      "Boston Celtics            0.182879\n",
      "Washington Wizards        0.178431\n",
      "New York Knicks           0.170497\n",
      "Charlotte Hornets         0.166429\n",
      "Milwaukee Bucks           0.162197\n",
      "Sacramento Kings          0.149430\n",
      "Portland Trail Blazers    0.147289\n",
      "Orlando Magic             0.144203\n",
      "Utah Jazz                 0.141260\n",
      "Denver Nuggets            0.128917\n",
      "New Orleans Pelicans      0.125596\n",
      "Phoenix Suns              0.105573\n",
      "Brooklyn Nets             0.100305\n",
      "Minnesota Timberwolves    0.095584\n",
      "Los Angeles Lakers        0.065504\n",
      "Philadelphia 76ers        0.030627\n",
      "Name: [score], dtype: float64\n"
     ]
    }
   ],
   "source": [
    "rank = centrality_scores(records)\n",
    "rank.sort(ascending=False)\n",
    "print rank"
   ]
  },
  {
   "cell_type": "markdown",
   "metadata": {},
   "source": [
    "## Katz Centrality Results"
   ]
  },
  {
   "cell_type": "code",
   "execution_count": 189,
   "metadata": {
    "collapsed": false
   },
   "outputs": [
    {
     "name": "stdout",
     "output_type": "stream",
     "text": [
      "Golden State Warriors     0.392627\n",
      "San Antonio Spurs         0.334972\n",
      "Oklahoma City Thunder     0.242028\n",
      "Toronto Raptors           0.238462\n",
      "Chicago Bulls             0.235002\n",
      "Atlanta Hawks             0.214440\n",
      "Cleveland Cavaliers       0.213662\n",
      "Los Angeles Clippers      0.200484\n",
      "Dallas Mavericks          0.194105\n",
      "Detroit Pistons           0.193990\n",
      "Indiana Pacers            0.193942\n",
      "Miami Heat                0.192266\n",
      "Washington Wizards        0.191715\n",
      "Boston Celtics            0.188741\n",
      "Memphis Grizzlies         0.182001\n",
      "Houston Rockets           0.167708\n",
      "Charlotte Hornets         0.165306\n",
      "New York Knicks           0.155345\n",
      "Milwaukee Bucks           0.150180\n",
      "Sacramento Kings          0.130500\n",
      "Portland Trail Blazers    0.100803\n",
      "New Orleans Pelicans      0.095528\n",
      "Utah Jazz                 0.095409\n",
      "Orlando Magic             0.090400\n",
      "Denver Nuggets            0.084243\n",
      "Brooklyn Nets             0.063511\n",
      "Phoenix Suns              0.049870\n",
      "Minnesota Timberwolves    0.027129\n",
      "Los Angeles Lakers       -0.010093\n",
      "Philadelphia 76ers       -0.074590\n",
      "Name: [score], dtype: float64\n"
     ]
    }
   ],
   "source": [
    "rank = katz_centrality(records)\n",
    "rank.sort(ascending=False)\n",
    "print rank"
   ]
  },
  {
   "cell_type": "markdown",
   "metadata": {},
   "source": [
    "## PageRank Results"
   ]
  },
  {
   "cell_type": "code",
   "execution_count": 190,
   "metadata": {
    "collapsed": false
   },
   "outputs": [
    {
     "name": "stdout",
     "output_type": "stream",
     "text": [
      "Golden State Warriors     0.010972\n",
      "San Antonio Spurs         0.012725\n",
      "Cleveland Cavaliers       0.017536\n",
      "Oklahoma City Thunder     0.019422\n",
      "Los Angeles Clippers      0.022289\n",
      "Memphis Grizzlies         0.023151\n",
      "Toronto Raptors           0.025924\n",
      "Dallas Mavericks          0.026420\n",
      "Indiana Pacers            0.028118\n",
      "Orlando Magic             0.029046\n",
      "Atlanta Hawks             0.029279\n",
      "Miami Heat                0.029421\n",
      "Chicago Bulls             0.030338\n",
      "New York Knicks           0.030940\n",
      "Charlotte Hornets         0.031022\n",
      "Detroit Pistons           0.031239\n",
      "Washington Wizards        0.032193\n",
      "Boston Celtics            0.032279\n",
      "Utah Jazz                 0.032845\n",
      "Houston Rockets           0.034780\n",
      "Milwaukee Bucks           0.035673\n",
      "New Orleans Pelicans      0.040957\n",
      "Denver Nuggets            0.042035\n",
      "Sacramento Kings          0.042844\n",
      "Brooklyn Nets             0.044180\n",
      "Portland Trail Blazers    0.044823\n",
      "Minnesota Timberwolves    0.051476\n",
      "Philadelphia 76ers        0.053643\n",
      "Phoenix Suns              0.056312\n",
      "Los Angeles Lakers        0.058120\n",
      "Name: [score], dtype: float64\n"
     ]
    }
   ],
   "source": [
    "from scipy import sparse\n",
    "\n",
    "# We do convert to a sparse matrix because that's what the function expects.\n",
    "rank = pagerank(sparse.csr_matrix(records.as_matrix()),index=records.index)\n",
    "rank.sort()\n",
    "print rank"
   ]
  },
  {
   "cell_type": "markdown",
   "metadata": {},
   "source": [
    "### Note\n",
    "\n",
    "Notice that the PageRank scores are given in ascending order. Recall that a team's power ranking comes from the teams it beat or in terms of the graph, directed edges *away from it* since an edge A -> B means team A beat team B. In PageRank, a website's value comes from website that link to it or in terms of the graph, directed edges *to it*. PageRank values incoming edges and so it scores our power ranking in reverse fashion (high scores goes to teams that get pummeled a lot). So we reverse the order for it to make sense in our situation."
   ]
  },
  {
   "cell_type": "markdown",
   "metadata": {},
   "source": [
    "## Conclusion\n",
    "\n",
    "All algorithms agree that the Warriors and the Spurs are the best in the league. The attenuation/dampening presented by Katz + PageRank are valuable attributes of the algorithms because indirect face-offs (\"my team beat your team via [Transitive Property](http://www.mathwords.com/t/transitive_property_inequalities.htm)\" e.g. Lakers > Pistons and Pistons > Warriors therefore Lakers > Warriors) have little significance to the ranking of teams and most of the time, are simply not true. Distinct matchups between teams are highlighted by their unique attributes that have different effectiveness against other teams. Rankings cannot be simply described by the transitive property. The Katz + PageRank algorithm attenuates/dampens their value in the power ranking calculation, thereby favoring direct matchups.\n",
    "\n",
    "There are also some weaknesses in this analysis. What these power rankings assume is that each team plays every game at the same level. That means the Warriors team that blew out the Cavs is playing at the same level when they got blown out by the Pistons. This is not true because team/player performance varies from night to night. Or coaching staffs are trying minimizing the risk of injury and fatigue and playing critical players less."
   ]
  },
  {
   "cell_type": "markdown",
   "metadata": {},
   "source": [
    "## For Fun: Plot the NBA Network\n",
    "\n",
    "I plotted the NBA network below. As you can see it's pretty convoluted. There's not much to discern which is why I didn't even label the nodes."
   ]
  },
  {
   "cell_type": "code",
   "execution_count": 191,
   "metadata": {
    "collapsed": false
   },
   "outputs": [
    {
     "data": {
      "image/png": "[encoded data removed]",
      "text/plain": [
       "<matplotlib.figure.Figure at 0x10dd64b90>"
      ]
     },
     "metadata": {},
     "output_type": "display_data"
    }
   ],
   "source": [
    "%matplotlib inline\n",
    "\n",
    "import networkx as nx\n",
    "import matplotlib.pyplot as plt\n",
    "\n",
    "R = nx.DiGraph(records.as_matrix())\n",
    "nx.draw_circular(R)\n",
    "plt.show()"
   ]
  },
  {
   "cell_type": "markdown",
   "metadata": {},
   "source": [
    "## More Fun: HITS Algorithm\n",
    "\n",
    "This is another web search algorithm but doesn't make sense in this NBA Power Ranking setting.\n",
    "\n",
    "The [HITS Algorithm](https://en.wikipedia.org/wiki/HITS_algorithm) was thought up by Jon Kleinberg who noticed that the World Wide Web can be thought of having 2 different types of websites: ones with many links to it (Authorities) and ones with many links to others (Hubs). A web site is a high-quality authority if it has many links from high-quality hubs. A web site is a high-quality hub if it has many link to high-quality authorities. (see the recursive definition again?).\n",
    "\n",
    "Why doesn't this algorithm make sense for our power ranking?\n",
    "\n",
    "This goes back to the directed edges. If victories are edges away from a node then defeat are edge to a node. A high-quality authority has many links to it. In the realm of our power rankings, that means a team is a high-quality authority if its gets pummeled a lot. And because a hub's quality is the sum of the high-quality authorities it links to, a team is a high-quality hub if it beats high-quality authorities a.k.a. teams that gets pummeled a lot. A team isn't good if they consistently beat teams that are constantly getting beat!\n",
    "\n",
    "So here it is below (remember, it's meaningless): "
   ]
  },
  {
   "cell_type": "code",
   "execution_count": 192,
   "metadata": {
    "collapsed": true
   },
   "outputs": [],
   "source": [
    "def HITS2(G, auth, hubs):\n",
    "    \"\"\"\n",
    "    Hyperlink-Induced Topic Search\n",
    "    Weighted HITS algorithm. Adds weights of edges, not just count of edges.\n",
    "    G is the graph. Auth and hubs are lists of scores.\n",
    "    \"\"\"\n",
    "    for _ in xrange(100):\n",
    "        for idx, team in enumerate(G.index):\n",
    "            # 'G[team] > 0' returns indices of teams that have beat 'team'\n",
    "            auth[idx] = hubs[G[team] > 0].sum()\n",
    "        auth = pd.Series(auth.values/np.linalg.norm(auth.values),\n",
    "                         index=auth.index,\n",
    "                         name='auth_scores')\n",
    "        for idx, team in enumerate(G.index):\n",
    "            # 'G.loc[team] > 0' returns indices of teams that 'team' has beat at least once\n",
    "            hubs[idx] = auth[G.loc[team] > 0].sum()\n",
    "        hubs = pd.Series(hubs.values/np.linalg.norm(hubs.values),\n",
    "                         index=hubs.index,\n",
    "                         name='hub_scores')\n",
    "    return auth, hubs\n",
    "\n",
    "auth = records.sum()\n",
    "hubs = records.sum(axis=1)\n",
    "auth, hubs = HITS2(records, auth, hubs)"
   ]
  },
  {
   "cell_type": "code",
   "execution_count": 193,
   "metadata": {
    "collapsed": false
   },
   "outputs": [
    {
     "name": "stdout",
     "output_type": "stream",
     "text": [
      "Brooklyn Nets             0.261004\n",
      "Philadelphia 76ers        0.254143\n",
      "Phoenix Suns              0.240013\n",
      "Los Angeles Lakers        0.237207\n",
      "Portland Trail Blazers    0.233796\n",
      "Minnesota Timberwolves    0.233535\n",
      "New Orleans Pelicans      0.210094\n",
      "Charlotte Hornets         0.204160\n",
      "Milwaukee Bucks           0.203609\n",
      "Washington Wizards        0.198395\n",
      "Denver Nuggets            0.187927\n",
      "Miami Heat                0.187222\n",
      "Sacramento Kings          0.184978\n",
      "Houston Rockets           0.181849\n",
      "Indiana Pacers            0.178823\n",
      "Detroit Pistons           0.178135\n",
      "Dallas Mavericks          0.174600\n",
      "Utah Jazz                 0.172978\n",
      "Memphis Grizzlies         0.169446\n",
      "New York Knicks           0.169333\n",
      "Boston Celtics            0.157728\n",
      "Atlanta Hawks             0.156313\n",
      "Orlando Magic             0.147707\n",
      "Chicago Bulls             0.133737\n",
      "Los Angeles Clippers      0.133443\n",
      "Toronto Raptors           0.130951\n",
      "Oklahoma City Thunder     0.127077\n",
      "Cleveland Cavaliers       0.111932\n",
      "San Antonio Spurs         0.063294\n",
      "Golden State Warriors     0.042041\n",
      "Name: auth_scores, dtype: float64\n"
     ]
    }
   ],
   "source": [
    "auth.sort(ascending=False)\n",
    "print auth"
   ]
  },
  {
   "cell_type": "code",
   "execution_count": 194,
   "metadata": {
    "collapsed": false
   },
   "outputs": [
    {
     "name": "stdout",
     "output_type": "stream",
     "text": [
      "San Antonio Spurs         0.249606\n",
      "Miami Heat                0.246232\n",
      "Oklahoma City Thunder     0.238297\n",
      "Cleveland Cavaliers       0.234669\n",
      "Golden State Warriors     0.232420\n",
      "Los Angeles Clippers      0.228179\n",
      "Dallas Mavericks          0.213076\n",
      "Memphis Grizzlies         0.212520\n",
      "Atlanta Hawks             0.201572\n",
      "Chicago Bulls             0.198735\n",
      "Boston Celtics            0.195178\n",
      "New York Knicks           0.194382\n",
      "Charlotte Hornets         0.193816\n",
      "Indiana Pacers            0.191361\n",
      "Detroit Pistons           0.185202\n",
      "Houston Rockets           0.182801\n",
      "Toronto Raptors           0.177703\n",
      "Milwaukee Bucks           0.174155\n",
      "Orlando Magic             0.167748\n",
      "Portland Trail Blazers    0.156433\n",
      "Sacramento Kings          0.149924\n",
      "Utah Jazz                 0.147086\n",
      "Washington Wizards        0.144128\n",
      "Denver Nuggets            0.138901\n",
      "New Orleans Pelicans      0.129282\n",
      "Phoenix Suns              0.120421\n",
      "Minnesota Timberwolves    0.119120\n",
      "Los Angeles Lakers        0.111764\n",
      "Brooklyn Nets             0.098018\n",
      "Philadelphia 76ers        0.066757\n",
      "Name: hub_scores, dtype: float64\n"
     ]
    }
   ],
   "source": [
    "hubs.sort(ascending=False)\n",
    "print hubs"
   ]
  }
 ],
 "metadata": {
  "kernelspec": {
   "display_name": "Python 2",
   "language": "python",
   "name": "python2"
  },
  "language_info": {
   "codemirror_mode": {
    "name": "ipython",
    "version": 2
   },
   "file_extension": ".py",
   "mimetype": "text/x-python",
   "name": "python",
   "nbconvert_exporter": "python",
   "pygments_lexer": "ipython2",
   "version": "2.7.11"
  }
 },
 "nbformat": 4,
 "nbformat_minor": 0
}
