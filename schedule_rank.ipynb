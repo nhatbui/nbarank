{
 "cells": [
  {
   "cell_type": "code",
   "execution_count": 16,
   "metadata": {
    "collapsed": false
   },
   "outputs": [],
   "source": [
    "import pandas as pd\n",
    "\n",
    "# Load Schedule\n",
    "schedule = pd.read_csv('2015_16_Schedule.csv',\n",
    "                       header=0)\n",
    "schedule = schedule.drop(['Unnamed: 2', 'Unnamed: 7', 'Notes'], axis=1)\n",
    "schedule = schedule.dropna()"
   ]
  },
  {
   "cell_type": "code",
   "execution_count": 17,
   "metadata": {
    "collapsed": false
   },
   "outputs": [],
   "source": [
    "import numpy as np\n",
    "\n",
    "# Create Records Matrix\n",
    "teams = pd.read_csv('teams.csv', names=['teams'])\n",
    "teams = teams['teams'].tolist()\n",
    "teams = [team.strip() for team in teams]\n",
    "n_teams = len(teams)\n",
    "records = pd.DataFrame(np.zeros((n_teams,n_teams)),\n",
    "                       columns=teams,\n",
    "                       index=teams)\n",
    "# Compute Records\n",
    "for index, game in schedule.iterrows():\n",
    "    hometeam = game['Home/Neutral']\n",
    "    visitor = game['Visitor/Neutral']\n",
    "    if hometeam == visitor:\n",
    "        continue\n",
    "\n",
    "    if int(game['PTS.1']) > int(game['PTS']):\n",
    "        # Home Team won\n",
    "        records.at[hometeam, visitor] += 1\n",
    "    else:\n",
    "        # Visiting Team won\n",
    "        records.at[visitor, hometeam] += 1"
   ]
  },
  {
   "cell_type": "code",
   "execution_count": 18,
   "metadata": {
    "collapsed": true
   },
   "outputs": [],
   "source": [
    "import math\n",
    "\n",
    "def centrality_scores(G, stop_count=100):\n",
    "    \"\"\"\n",
    "    Calculate eigenvector for adjacency matrix G using power iteration method.\n",
    "    \"\"\"\n",
    "    n = G.shape[1]\n",
    "    e = np.ones(n)/math.sqrt(n)\n",
    "    g = G.as_matrix()\n",
    "    for _ in xrange(stop_count):\n",
    "        e = np.dot(g,e)\n",
    "        e /= np.linalg.norm(e)\n",
    "    return pd.Series(e, index=G.index, name=['score'])"
   ]
  },
  {
   "cell_type": "code",
   "execution_count": 19,
   "metadata": {
    "collapsed": false
   },
   "outputs": [
    {
     "name": "stdout",
     "output_type": "stream",
     "text": [
      "Golden State Warriors     0.323062\n",
      "San Antonio Spurs         0.279905\n",
      "Chicago Bulls             0.233262\n",
      "Oklahoma City Thunder     0.230051\n",
      "Cleveland Cavaliers       0.229738\n",
      "Toronto Raptors           0.219943\n",
      "Miami Heat                0.213072\n",
      "Atlanta Hawks             0.212150\n",
      "Indiana Pacers            0.209715\n",
      "Detroit Pistons           0.203697\n",
      "Los Angeles Clippers      0.198851\n",
      "Dallas Mavericks          0.193495\n",
      "Boston Celtics            0.184876\n",
      "Houston Rockets           0.176314\n",
      "Memphis Grizzlies         0.176124\n",
      "New York Knicks           0.175354\n",
      "Charlotte Hornets         0.172721\n",
      "Washington Wizards        0.165056\n",
      "Orlando Magic             0.160177\n",
      "Sacramento Kings          0.154166\n",
      "Utah Jazz                 0.140805\n",
      "Milwaukee Bucks           0.130853\n",
      "Portland Trail Blazers    0.128899\n",
      "Phoenix Suns              0.120886\n",
      "New Orleans Pelicans      0.117957\n",
      "Brooklyn Nets             0.110240\n",
      "Minnesota Timberwolves    0.107954\n",
      "Denver Nuggets            0.105959\n",
      "Los Angeles Lakers        0.066763\n",
      "Philadelphia 76ers        0.028594\n",
      "Name: [score], dtype: float64\n"
     ]
    }
   ],
   "source": [
    "rank = centrality_scores(records)\n",
    "rank.sort(ascending=False)\n",
    "print rank"
   ]
  }
 ],
 "metadata": {
  "kernelspec": {
   "display_name": "Python 2",
   "language": "python",
   "name": "python2"
  },
  "language_info": {
   "codemirror_mode": {
    "name": "ipython",
    "version": 2
   },
   "file_extension": ".py",
   "mimetype": "text/x-python",
   "name": "python",
   "nbconvert_exporter": "python",
   "pygments_lexer": "ipython2",
   "version": "2.7.11"
  }
 },
 "nbformat": 4,
 "nbformat_minor": 0
}
